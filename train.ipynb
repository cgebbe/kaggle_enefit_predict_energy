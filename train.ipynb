{
 "cells": [
  {
   "cell_type": "code",
   "execution_count": 1,
   "metadata": {},
   "outputs": [],
   "source": [
    "from enefitscripts.s import data, _ipython\n",
    "\n",
    "_ipython.setup_autoreload()"
   ]
  },
  {
   "cell_type": "code",
   "execution_count": 60,
   "metadata": {},
   "outputs": [
    {
     "name": "stdout",
     "output_type": "stream",
     "text": [
      "/mnt/sda1/projects/git/competitions/20240118_kaggle_enefit/predict-energy-behavior-of-prosumers/client.csv\n"
     ]
    },
    {
     "data": {
      "text/html": [
       "<div><style>\n",
       ".dataframe > thead > tr > th,\n",
       ".dataframe > tbody > tr > td {\n",
       "  text-align: right;\n",
       "  white-space: pre-wrap;\n",
       "}\n",
       "</style>\n",
       "<small>shape: (3, 7)</small><table border=\"1\" class=\"dataframe\"><thead><tr><th>product_type</th><th>county</th><th>eic_count</th><th>installed_capacity</th><th>is_business</th><th>date</th><th>data_block_id</th></tr><tr><td>i64</td><td>i64</td><td>i64</td><td>f64</td><td>i64</td><td>str</td><td>i64</td></tr></thead><tbody><tr><td>1</td><td>0</td><td>108</td><td>952.89</td><td>0</td><td>&quot;2021-09-01&quot;</td><td>2</td></tr><tr><td>2</td><td>0</td><td>17</td><td>166.4</td><td>0</td><td>&quot;2021-09-01&quot;</td><td>2</td></tr><tr><td>3</td><td>0</td><td>688</td><td>7207.88</td><td>0</td><td>&quot;2021-09-01&quot;</td><td>2</td></tr></tbody></table></div>"
      ],
      "text/plain": [
       "shape: (3, 7)\n",
       "┌──────────────┬────────┬───────────┬───────────────────┬─────────────┬────────────┬───────────────┐\n",
       "│ product_type ┆ county ┆ eic_count ┆ installed_capacit ┆ is_business ┆ date       ┆ data_block_id │\n",
       "│ ---          ┆ ---    ┆ ---       ┆ y                 ┆ ---         ┆ ---        ┆ ---           │\n",
       "│ i64          ┆ i64    ┆ i64       ┆ ---               ┆ i64         ┆ str        ┆ i64           │\n",
       "│              ┆        ┆           ┆ f64               ┆             ┆            ┆               │\n",
       "╞══════════════╪════════╪═══════════╪═══════════════════╪═════════════╪════════════╪═══════════════╡\n",
       "│ 1            ┆ 0      ┆ 108       ┆ 952.89            ┆ 0           ┆ 2021-09-01 ┆ 2             │\n",
       "│ 2            ┆ 0      ┆ 17        ┆ 166.4             ┆ 0           ┆ 2021-09-01 ┆ 2             │\n",
       "│ 3            ┆ 0      ┆ 688       ┆ 7207.88           ┆ 0           ┆ 2021-09-01 ┆ 2             │\n",
       "└──────────────┴────────┴───────────┴───────────────────┴─────────────┴────────────┴───────────────┘"
      ]
     },
     "metadata": {},
     "output_type": "display_data"
    },
    {
     "data": {
      "text/html": [
       "<div><style>\n",
       ".dataframe > thead > tr > th,\n",
       ".dataframe > tbody > tr > td {\n",
       "  text-align: right;\n",
       "  white-space: pre-wrap;\n",
       "}\n",
       "</style>\n",
       "<small>shape: (9, 8)</small><table border=\"1\" class=\"dataframe\"><thead><tr><th>describe</th><th>product_type</th><th>county</th><th>eic_count</th><th>installed_capacity</th><th>is_business</th><th>date</th><th>data_block_id</th></tr><tr><td>str</td><td>f64</td><td>f64</td><td>f64</td><td>f64</td><td>f64</td><td>str</td><td>f64</td></tr></thead><tbody><tr><td>&quot;count&quot;</td><td>41919.0</td><td>41919.0</td><td>41919.0</td><td>41919.0</td><td>41919.0</td><td>&quot;41919&quot;</td><td>41919.0</td></tr><tr><td>&quot;null_count&quot;</td><td>0.0</td><td>0.0</td><td>0.0</td><td>0.0</td><td>0.0</td><td>&quot;0&quot;</td><td>0.0</td></tr><tr><td>&quot;mean&quot;</td><td>1.898996</td><td>7.297097</td><td>73.345118</td><td>1450.771451</td><td>0.536773</td><td>null</td><td>322.898876</td></tr><tr><td>&quot;std&quot;</td><td>1.081713</td><td>4.78075</td><td>144.064389</td><td>2422.23312</td><td>0.498652</td><td>null</td><td>182.075724</td></tr><tr><td>&quot;min&quot;</td><td>0.0</td><td>0.0</td><td>5.0</td><td>5.5</td><td>0.0</td><td>&quot;2021-09-01&quot;</td><td>2.0</td></tr><tr><td>&quot;25%&quot;</td><td>1.0</td><td>3.0</td><td>13.0</td><td>321.9</td><td>0.0</td><td>null</td><td>167.0</td></tr><tr><td>&quot;50%&quot;</td><td>2.0</td><td>7.0</td><td>32.0</td><td>645.2</td><td>1.0</td><td>null</td><td>324.0</td></tr><tr><td>&quot;75%&quot;</td><td>3.0</td><td>11.0</td><td>70.0</td><td>1567.15</td><td>1.0</td><td>null</td><td>480.0</td></tr><tr><td>&quot;max&quot;</td><td>3.0</td><td>15.0</td><td>1517.0</td><td>19314.31</td><td>1.0</td><td>&quot;2023-05-29&quot;</td><td>637.0</td></tr></tbody></table></div>"
      ],
      "text/plain": [
       "shape: (9, 8)\n",
       "┌────────────┬────────────┬──────────┬────────────┬────────────┬───────────┬───────────┬───────────┐\n",
       "│ describe   ┆ product_ty ┆ county   ┆ eic_count  ┆ installed_ ┆ is_busine ┆ date      ┆ data_bloc │\n",
       "│ ---        ┆ pe         ┆ ---      ┆ ---        ┆ capacity   ┆ ss        ┆ ---       ┆ k_id      │\n",
       "│ str        ┆ ---        ┆ f64      ┆ f64        ┆ ---        ┆ ---       ┆ str       ┆ ---       │\n",
       "│            ┆ f64        ┆          ┆            ┆ f64        ┆ f64       ┆           ┆ f64       │\n",
       "╞════════════╪════════════╪══════════╪════════════╪════════════╪═══════════╪═══════════╪═══════════╡\n",
       "│ count      ┆ 41919.0    ┆ 41919.0  ┆ 41919.0    ┆ 41919.0    ┆ 41919.0   ┆ 41919     ┆ 41919.0   │\n",
       "│ null_count ┆ 0.0        ┆ 0.0      ┆ 0.0        ┆ 0.0        ┆ 0.0       ┆ 0         ┆ 0.0       │\n",
       "│ mean       ┆ 1.898996   ┆ 7.297097 ┆ 73.345118  ┆ 1450.77145 ┆ 0.536773  ┆ null      ┆ 322.89887 │\n",
       "│            ┆            ┆          ┆            ┆ 1          ┆           ┆           ┆ 6         │\n",
       "│ std        ┆ 1.081713   ┆ 4.78075  ┆ 144.064389 ┆ 2422.23312 ┆ 0.498652  ┆ null      ┆ 182.07572 │\n",
       "│            ┆            ┆          ┆            ┆            ┆           ┆           ┆ 4         │\n",
       "│ min        ┆ 0.0        ┆ 0.0      ┆ 5.0        ┆ 5.5        ┆ 0.0       ┆ 2021-09-0 ┆ 2.0       │\n",
       "│            ┆            ┆          ┆            ┆            ┆           ┆ 1         ┆           │\n",
       "│ 25%        ┆ 1.0        ┆ 3.0      ┆ 13.0       ┆ 321.9      ┆ 0.0       ┆ null      ┆ 167.0     │\n",
       "│ 50%        ┆ 2.0        ┆ 7.0      ┆ 32.0       ┆ 645.2      ┆ 1.0       ┆ null      ┆ 324.0     │\n",
       "│ 75%        ┆ 3.0        ┆ 11.0     ┆ 70.0       ┆ 1567.15    ┆ 1.0       ┆ null      ┆ 480.0     │\n",
       "│ max        ┆ 3.0        ┆ 15.0     ┆ 1517.0     ┆ 19314.31   ┆ 1.0       ┆ 2023-05-2 ┆ 637.0     │\n",
       "│            ┆            ┆          ┆            ┆            ┆           ┆ 9         ┆           │\n",
       "└────────────┴────────────┴──────────┴────────────┴────────────┴───────────┴───────────┴───────────┘"
      ]
     },
     "metadata": {},
     "output_type": "display_data"
    },
    {
     "name": "stdout",
     "output_type": "stream",
     "text": [
      "/mnt/sda1/projects/git/competitions/20240118_kaggle_enefit/predict-energy-behavior-of-prosumers/electricity_prices.csv\n"
     ]
    },
    {
     "data": {
      "text/html": [
       "<div><style>\n",
       ".dataframe > thead > tr > th,\n",
       ".dataframe > tbody > tr > td {\n",
       "  text-align: right;\n",
       "  white-space: pre-wrap;\n",
       "}\n",
       "</style>\n",
       "<small>shape: (3, 4)</small><table border=\"1\" class=\"dataframe\"><thead><tr><th>forecast_date</th><th>euros_per_mwh</th><th>origin_date</th><th>data_block_id</th></tr><tr><td>str</td><td>f64</td><td>str</td><td>i64</td></tr></thead><tbody><tr><td>&quot;2021-09-01 00:…</td><td>92.51</td><td>&quot;2021-08-31 00:…</td><td>1</td></tr><tr><td>&quot;2021-09-01 01:…</td><td>88.9</td><td>&quot;2021-08-31 01:…</td><td>1</td></tr><tr><td>&quot;2021-09-01 02:…</td><td>87.35</td><td>&quot;2021-08-31 02:…</td><td>1</td></tr></tbody></table></div>"
      ],
      "text/plain": [
       "shape: (3, 4)\n",
       "┌─────────────────────┬───────────────┬─────────────────────┬───────────────┐\n",
       "│ forecast_date       ┆ euros_per_mwh ┆ origin_date         ┆ data_block_id │\n",
       "│ ---                 ┆ ---           ┆ ---                 ┆ ---           │\n",
       "│ str                 ┆ f64           ┆ str                 ┆ i64           │\n",
       "╞═════════════════════╪═══════════════╪═════════════════════╪═══════════════╡\n",
       "│ 2021-09-01 00:00:00 ┆ 92.51         ┆ 2021-08-31 00:00:00 ┆ 1             │\n",
       "│ 2021-09-01 01:00:00 ┆ 88.9          ┆ 2021-08-31 01:00:00 ┆ 1             │\n",
       "│ 2021-09-01 02:00:00 ┆ 87.35         ┆ 2021-08-31 02:00:00 ┆ 1             │\n",
       "└─────────────────────┴───────────────┴─────────────────────┴───────────────┘"
      ]
     },
     "metadata": {},
     "output_type": "display_data"
    },
    {
     "data": {
      "text/html": [
       "<div><style>\n",
       ".dataframe > thead > tr > th,\n",
       ".dataframe > tbody > tr > td {\n",
       "  text-align: right;\n",
       "  white-space: pre-wrap;\n",
       "}\n",
       "</style>\n",
       "<small>shape: (9, 5)</small><table border=\"1\" class=\"dataframe\"><thead><tr><th>describe</th><th>forecast_date</th><th>euros_per_mwh</th><th>origin_date</th><th>data_block_id</th></tr><tr><td>str</td><td>str</td><td>f64</td><td>str</td><td>f64</td></tr></thead><tbody><tr><td>&quot;count&quot;</td><td>&quot;15286&quot;</td><td>15286.0</td><td>&quot;15286&quot;</td><td>15286.0</td></tr><tr><td>&quot;null_count&quot;</td><td>&quot;0&quot;</td><td>0.0</td><td>&quot;0&quot;</td><td>0.0</td></tr><tr><td>&quot;mean&quot;</td><td>null</td><td>157.064176</td><td>null</td><td>318.99071</td></tr><tr><td>&quot;std&quot;</td><td>null</td><td>121.148625</td><td>null</td><td>183.890301</td></tr><tr><td>&quot;min&quot;</td><td>&quot;2021-09-01 00:…</td><td>-10.06</td><td>&quot;2021-08-31 00:…</td><td>1.0</td></tr><tr><td>&quot;25%&quot;</td><td>null</td><td>85.29</td><td>null</td><td>160.0</td></tr><tr><td>&quot;50%&quot;</td><td>null</td><td>128.28</td><td>null</td><td>319.0</td></tr><tr><td>&quot;75%&quot;</td><td>null</td><td>199.8</td><td>null</td><td>478.0</td></tr><tr><td>&quot;max&quot;</td><td>&quot;2023-05-30 23:…</td><td>4000.0</td><td>&quot;2023-05-29 23:…</td><td>637.0</td></tr></tbody></table></div>"
      ],
      "text/plain": [
       "shape: (9, 5)\n",
       "┌────────────┬─────────────────────┬───────────────┬─────────────────────┬───────────────┐\n",
       "│ describe   ┆ forecast_date       ┆ euros_per_mwh ┆ origin_date         ┆ data_block_id │\n",
       "│ ---        ┆ ---                 ┆ ---           ┆ ---                 ┆ ---           │\n",
       "│ str        ┆ str                 ┆ f64           ┆ str                 ┆ f64           │\n",
       "╞════════════╪═════════════════════╪═══════════════╪═════════════════════╪═══════════════╡\n",
       "│ count      ┆ 15286               ┆ 15286.0       ┆ 15286               ┆ 15286.0       │\n",
       "│ null_count ┆ 0                   ┆ 0.0           ┆ 0                   ┆ 0.0           │\n",
       "│ mean       ┆ null                ┆ 157.064176    ┆ null                ┆ 318.99071     │\n",
       "│ std        ┆ null                ┆ 121.148625    ┆ null                ┆ 183.890301    │\n",
       "│ min        ┆ 2021-09-01 00:00:00 ┆ -10.06        ┆ 2021-08-31 00:00:00 ┆ 1.0           │\n",
       "│ 25%        ┆ null                ┆ 85.29         ┆ null                ┆ 160.0         │\n",
       "│ 50%        ┆ null                ┆ 128.28        ┆ null                ┆ 319.0         │\n",
       "│ 75%        ┆ null                ┆ 199.8         ┆ null                ┆ 478.0         │\n",
       "│ max        ┆ 2023-05-30 23:00:00 ┆ 4000.0        ┆ 2023-05-29 23:00:00 ┆ 637.0         │\n",
       "└────────────┴─────────────────────┴───────────────┴─────────────────────┴───────────────┘"
      ]
     },
     "metadata": {},
     "output_type": "display_data"
    },
    {
     "name": "stdout",
     "output_type": "stream",
     "text": [
      "/mnt/sda1/projects/git/competitions/20240118_kaggle_enefit/predict-energy-behavior-of-prosumers/forecast_weather.csv\n"
     ]
    },
    {
     "data": {
      "text/html": [
       "<div><style>\n",
       ".dataframe > thead > tr > th,\n",
       ".dataframe > tbody > tr > td {\n",
       "  text-align: right;\n",
       "  white-space: pre-wrap;\n",
       "}\n",
       "</style>\n",
       "<small>shape: (3, 18)</small><table border=\"1\" class=\"dataframe\"><thead><tr><th>latitude</th><th>longitude</th><th>origin_datetime</th><th>hours_ahead</th><th>temperature</th><th>dewpoint</th><th>cloudcover_high</th><th>cloudcover_low</th><th>cloudcover_mid</th><th>cloudcover_total</th><th>10_metre_u_wind_component</th><th>10_metre_v_wind_component</th><th>data_block_id</th><th>forecast_datetime</th><th>direct_solar_radiation</th><th>surface_solar_radiation_downwards</th><th>snowfall</th><th>total_precipitation</th></tr><tr><td>f64</td><td>f64</td><td>str</td><td>i64</td><td>f64</td><td>f64</td><td>f64</td><td>f64</td><td>f64</td><td>f64</td><td>f64</td><td>f64</td><td>i64</td><td>str</td><td>f64</td><td>f64</td><td>f64</td><td>f64</td></tr></thead><tbody><tr><td>57.6</td><td>21.7</td><td>&quot;2021-09-01 02:…</td><td>1</td><td>15.655786</td><td>11.553613</td><td>0.904816</td><td>0.019714</td><td>0.0</td><td>0.905899</td><td>-0.411328</td><td>-9.106137</td><td>1</td><td>&quot;2021-09-01 03:…</td><td>0.0</td><td>0.0</td><td>0.0</td><td>0.0</td></tr><tr><td>57.6</td><td>22.2</td><td>&quot;2021-09-01 02:…</td><td>1</td><td>13.003931</td><td>10.689844</td><td>0.886322</td><td>0.004456</td><td>0.0</td><td>0.886658</td><td>0.206347</td><td>-5.355405</td><td>1</td><td>&quot;2021-09-01 03:…</td><td>0.0</td><td>0.0</td><td>0.0</td><td>0.0</td></tr><tr><td>57.6</td><td>22.7</td><td>&quot;2021-09-01 02:…</td><td>1</td><td>14.206567</td><td>11.671777</td><td>0.729034</td><td>0.005615</td><td>0.0</td><td>0.730499</td><td>1.451587</td><td>-7.417905</td><td>1</td><td>&quot;2021-09-01 03:…</td><td>0.0</td><td>0.0</td><td>0.0</td><td>0.0</td></tr></tbody></table></div>"
      ],
      "text/plain": [
       "shape: (3, 18)\n",
       "┌──────────┬───────────┬────────────┬───────────┬───┬───────────┬───────────┬──────────┬───────────┐\n",
       "│ latitude ┆ longitude ┆ origin_dat ┆ hours_ahe ┆ … ┆ direct_so ┆ surface_s ┆ snowfall ┆ total_pre │\n",
       "│ ---      ┆ ---       ┆ etime      ┆ ad        ┆   ┆ lar_radia ┆ olar_radi ┆ ---      ┆ cipitatio │\n",
       "│ f64      ┆ f64       ┆ ---        ┆ ---       ┆   ┆ tion      ┆ ation_dow ┆ f64      ┆ n         │\n",
       "│          ┆           ┆ str        ┆ i64       ┆   ┆ ---       ┆ nward…    ┆          ┆ ---       │\n",
       "│          ┆           ┆            ┆           ┆   ┆ f64       ┆ ---       ┆          ┆ f64       │\n",
       "│          ┆           ┆            ┆           ┆   ┆           ┆ f64       ┆          ┆           │\n",
       "╞══════════╪═══════════╪════════════╪═══════════╪═══╪═══════════╪═══════════╪══════════╪═══════════╡\n",
       "│ 57.6     ┆ 21.7      ┆ 2021-09-01 ┆ 1         ┆ … ┆ 0.0       ┆ 0.0       ┆ 0.0      ┆ 0.0       │\n",
       "│          ┆           ┆ 02:00:00   ┆           ┆   ┆           ┆           ┆          ┆           │\n",
       "│ 57.6     ┆ 22.2      ┆ 2021-09-01 ┆ 1         ┆ … ┆ 0.0       ┆ 0.0       ┆ 0.0      ┆ 0.0       │\n",
       "│          ┆           ┆ 02:00:00   ┆           ┆   ┆           ┆           ┆          ┆           │\n",
       "│ 57.6     ┆ 22.7      ┆ 2021-09-01 ┆ 1         ┆ … ┆ 0.0       ┆ 0.0       ┆ 0.0      ┆ 0.0       │\n",
       "│          ┆           ┆ 02:00:00   ┆           ┆   ┆           ┆           ┆          ┆           │\n",
       "└──────────┴───────────┴────────────┴───────────┴───┴───────────┴───────────┴──────────┴───────────┘"
      ]
     },
     "metadata": {},
     "output_type": "display_data"
    },
    {
     "data": {
      "text/html": [
       "<div><style>\n",
       ".dataframe > thead > tr > th,\n",
       ".dataframe > tbody > tr > td {\n",
       "  text-align: right;\n",
       "  white-space: pre-wrap;\n",
       "}\n",
       "</style>\n",
       "<small>shape: (9, 19)</small><table border=\"1\" class=\"dataframe\"><thead><tr><th>describe</th><th>latitude</th><th>longitude</th><th>origin_datetime</th><th>hours_ahead</th><th>temperature</th><th>dewpoint</th><th>cloudcover_high</th><th>cloudcover_low</th><th>cloudcover_mid</th><th>cloudcover_total</th><th>10_metre_u_wind_component</th><th>10_metre_v_wind_component</th><th>data_block_id</th><th>forecast_datetime</th><th>direct_solar_radiation</th><th>surface_solar_radiation_downwards</th><th>snowfall</th><th>total_precipitation</th></tr><tr><td>str</td><td>f64</td><td>f64</td><td>str</td><td>f64</td><td>f64</td><td>f64</td><td>f64</td><td>f64</td><td>f64</td><td>f64</td><td>f64</td><td>f64</td><td>f64</td><td>str</td><td>f64</td><td>f64</td><td>f64</td><td>f64</td></tr></thead><tbody><tr><td>&quot;count&quot;</td><td>3.424512e6</td><td>3.424512e6</td><td>&quot;3424512&quot;</td><td>3.424512e6</td><td>3.424512e6</td><td>3.424512e6</td><td>3.424512e6</td><td>3.424512e6</td><td>3.424512e6</td><td>3.424512e6</td><td>3.424512e6</td><td>3.424512e6</td><td>3.424512e6</td><td>&quot;3424512&quot;</td><td>3.424512e6</td><td>3.424512e6</td><td>3.424512e6</td><td>3.424512e6</td></tr><tr><td>&quot;null_count&quot;</td><td>0.0</td><td>0.0</td><td>&quot;0&quot;</td><td>0.0</td><td>0.0</td><td>0.0</td><td>0.0</td><td>0.0</td><td>0.0</td><td>0.0</td><td>0.0</td><td>0.0</td><td>0.0</td><td>&quot;0&quot;</td><td>0.0</td><td>2.0</td><td>0.0</td><td>0.0</td></tr><tr><td>&quot;mean&quot;</td><td>58.65</td><td>24.95</td><td>null</td><td>24.5</td><td>5.743913</td><td>2.411946</td><td>0.394665</td><td>0.434645</td><td>0.359069</td><td>0.681993</td><td>1.255446</td><td>0.725011</td><td>319.0</td><td>null</td><td>151.188212</td><td>110.764207</td><td>0.000025</td><td>0.000079</td></tr><tr><td>&quot;std&quot;</td><td>0.687386</td><td>2.015565</td><td>null</td><td>13.853401</td><td>7.844206</td><td>7.121432</td><td>0.444043</td><td>0.438635</td><td>0.420156</td><td>0.400963</td><td>3.9953</td><td>4.223752</td><td>183.885861</td><td>null</td><td>256.506903</td><td>187.444373</td><td>0.000122</td><td>0.000278</td></tr><tr><td>&quot;min&quot;</td><td>57.6</td><td>21.7</td><td>&quot;2021-09-01 02:…</td><td>1.0</td><td>-27.499396</td><td>-29.683569</td><td>0.0</td><td>0.0</td><td>0.0</td><td>0.0</td><td>-17.577179</td><td>-22.116119</td><td>1.0</td><td>&quot;2021-09-01 03:…</td><td>-0.773333</td><td>-0.325833</td><td>-0.000004</td><td>-0.000015</td></tr><tr><td>&quot;25%&quot;</td><td>58.2</td><td>23.2</td><td>null</td><td>13.0</td><td>0.260645</td><td>-2.364355</td><td>0.0</td><td>0.000336</td><td>0.0</td><td>0.264893</td><td>-1.46669</td><td>-1.978104</td><td>160.0</td><td>null</td><td>0.0</td><td>0.0</td><td>0.0</td><td>0.0</td></tr><tr><td>&quot;50%&quot;</td><td>58.8</td><td>25.2</td><td>null</td><td>25.0</td><td>4.872705</td><td>1.835596</td><td>0.088669</td><td>0.230546</td><td>0.101196</td><td>0.977267</td><td>1.468682</td><td>0.943322</td><td>319.0</td><td>null</td><td>0.0</td><td>0.604444</td><td>0.0</td><td>0.0</td></tr><tr><td>&quot;75%&quot;</td><td>59.4</td><td>26.7</td><td>null</td><td>37.0</td><td>11.146387</td><td>7.302026</td><td>0.978485</td><td>0.999459</td><td>0.900085</td><td>1.0</td><td>3.813538</td><td>3.507632</td><td>478.0</td><td>null</td><td>212.845278</td><td>144.172326</td><td>0.0</td><td>0.000028</td></tr><tr><td>&quot;max&quot;</td><td>59.7</td><td>28.2</td><td>&quot;2023-05-30 02:…</td><td>48.0</td><td>31.810693</td><td>23.680566</td><td>1.000008</td><td>1.000008</td><td>1.000008</td><td>1.000008</td><td>22.573198</td><td>19.314369</td><td>637.0</td><td>&quot;2023-06-01 02:…</td><td>954.422222</td><td>848.714444</td><td>0.004833</td><td>0.016516</td></tr></tbody></table></div>"
      ],
      "text/plain": [
       "shape: (9, 19)\n",
       "┌───────────┬───────────┬───────────┬───────────┬───┬───────────┬───────────┬───────────┬──────────┐\n",
       "│ describe  ┆ latitude  ┆ longitude ┆ origin_da ┆ … ┆ direct_so ┆ surface_s ┆ snowfall  ┆ total_pr │\n",
       "│ ---       ┆ ---       ┆ ---       ┆ tetime    ┆   ┆ lar_radia ┆ olar_radi ┆ ---       ┆ ecipitat │\n",
       "│ str       ┆ f64       ┆ f64       ┆ ---       ┆   ┆ tion      ┆ ation_dow ┆ f64       ┆ ion      │\n",
       "│           ┆           ┆           ┆ str       ┆   ┆ ---       ┆ nward…    ┆           ┆ ---      │\n",
       "│           ┆           ┆           ┆           ┆   ┆ f64       ┆ ---       ┆           ┆ f64      │\n",
       "│           ┆           ┆           ┆           ┆   ┆           ┆ f64       ┆           ┆          │\n",
       "╞═══════════╪═══════════╪═══════════╪═══════════╪═══╪═══════════╪═══════════╪═══════════╪══════════╡\n",
       "│ count     ┆ 3.424512e ┆ 3.424512e ┆ 3424512   ┆ … ┆ 3.424512e ┆ 3.424512e ┆ 3.424512e ┆ 3.424512 │\n",
       "│           ┆ 6         ┆ 6         ┆           ┆   ┆ 6         ┆ 6         ┆ 6         ┆ e6       │\n",
       "│ null_coun ┆ 0.0       ┆ 0.0       ┆ 0         ┆ … ┆ 0.0       ┆ 2.0       ┆ 0.0       ┆ 0.0      │\n",
       "│ t         ┆           ┆           ┆           ┆   ┆           ┆           ┆           ┆          │\n",
       "│ mean      ┆ 58.65     ┆ 24.95     ┆ null      ┆ … ┆ 151.18821 ┆ 110.76420 ┆ 0.000025  ┆ 0.000079 │\n",
       "│           ┆           ┆           ┆           ┆   ┆ 2         ┆ 7         ┆           ┆          │\n",
       "│ std       ┆ 0.687386  ┆ 2.015565  ┆ null      ┆ … ┆ 256.50690 ┆ 187.44437 ┆ 0.000122  ┆ 0.000278 │\n",
       "│           ┆           ┆           ┆           ┆   ┆ 3         ┆ 3         ┆           ┆          │\n",
       "│ min       ┆ 57.6      ┆ 21.7      ┆ 2021-09-0 ┆ … ┆ -0.773333 ┆ -0.325833 ┆ -0.000004 ┆ -0.00001 │\n",
       "│           ┆           ┆           ┆ 1         ┆   ┆           ┆           ┆           ┆ 5        │\n",
       "│           ┆           ┆           ┆ 02:00:00  ┆   ┆           ┆           ┆           ┆          │\n",
       "│ 25%       ┆ 58.2      ┆ 23.2      ┆ null      ┆ … ┆ 0.0       ┆ 0.0       ┆ 0.0       ┆ 0.0      │\n",
       "│ 50%       ┆ 58.8      ┆ 25.2      ┆ null      ┆ … ┆ 0.0       ┆ 0.604444  ┆ 0.0       ┆ 0.0      │\n",
       "│ 75%       ┆ 59.4      ┆ 26.7      ┆ null      ┆ … ┆ 212.84527 ┆ 144.17232 ┆ 0.0       ┆ 0.000028 │\n",
       "│           ┆           ┆           ┆           ┆   ┆ 8         ┆ 6         ┆           ┆          │\n",
       "│ max       ┆ 59.7      ┆ 28.2      ┆ 2023-05-3 ┆ … ┆ 954.42222 ┆ 848.71444 ┆ 0.004833  ┆ 0.016516 │\n",
       "│           ┆           ┆           ┆ 0         ┆   ┆ 2         ┆ 4         ┆           ┆          │\n",
       "│           ┆           ┆           ┆ 02:00:00  ┆   ┆           ┆           ┆           ┆          │\n",
       "└───────────┴───────────┴───────────┴───────────┴───┴───────────┴───────────┴───────────┴──────────┘"
      ]
     },
     "metadata": {},
     "output_type": "display_data"
    },
    {
     "name": "stdout",
     "output_type": "stream",
     "text": [
      "/mnt/sda1/projects/git/competitions/20240118_kaggle_enefit/predict-energy-behavior-of-prosumers/gas_prices.csv\n"
     ]
    },
    {
     "data": {
      "text/html": [
       "<div><style>\n",
       ".dataframe > thead > tr > th,\n",
       ".dataframe > tbody > tr > td {\n",
       "  text-align: right;\n",
       "  white-space: pre-wrap;\n",
       "}\n",
       "</style>\n",
       "<small>shape: (3, 5)</small><table border=\"1\" class=\"dataframe\"><thead><tr><th>forecast_date</th><th>lowest_price_per_mwh</th><th>highest_price_per_mwh</th><th>origin_date</th><th>data_block_id</th></tr><tr><td>str</td><td>f64</td><td>f64</td><td>str</td><td>i64</td></tr></thead><tbody><tr><td>&quot;2021-09-01&quot;</td><td>45.23</td><td>46.32</td><td>&quot;2021-08-31&quot;</td><td>1</td></tr><tr><td>&quot;2021-09-02&quot;</td><td>45.62</td><td>46.29</td><td>&quot;2021-09-01&quot;</td><td>2</td></tr><tr><td>&quot;2021-09-03&quot;</td><td>45.85</td><td>46.4</td><td>&quot;2021-09-02&quot;</td><td>3</td></tr></tbody></table></div>"
      ],
      "text/plain": [
       "shape: (3, 5)\n",
       "┌───────────────┬──────────────────────┬───────────────────────┬─────────────┬───────────────┐\n",
       "│ forecast_date ┆ lowest_price_per_mwh ┆ highest_price_per_mwh ┆ origin_date ┆ data_block_id │\n",
       "│ ---           ┆ ---                  ┆ ---                   ┆ ---         ┆ ---           │\n",
       "│ str           ┆ f64                  ┆ f64                   ┆ str         ┆ i64           │\n",
       "╞═══════════════╪══════════════════════╪═══════════════════════╪═════════════╪═══════════════╡\n",
       "│ 2021-09-01    ┆ 45.23                ┆ 46.32                 ┆ 2021-08-31  ┆ 1             │\n",
       "│ 2021-09-02    ┆ 45.62                ┆ 46.29                 ┆ 2021-09-01  ┆ 2             │\n",
       "│ 2021-09-03    ┆ 45.85                ┆ 46.4                  ┆ 2021-09-02  ┆ 3             │\n",
       "└───────────────┴──────────────────────┴───────────────────────┴─────────────┴───────────────┘"
      ]
     },
     "metadata": {},
     "output_type": "display_data"
    },
    {
     "data": {
      "text/html": [
       "<div><style>\n",
       ".dataframe > thead > tr > th,\n",
       ".dataframe > tbody > tr > td {\n",
       "  text-align: right;\n",
       "  white-space: pre-wrap;\n",
       "}\n",
       "</style>\n",
       "<small>shape: (9, 6)</small><table border=\"1\" class=\"dataframe\"><thead><tr><th>describe</th><th>forecast_date</th><th>lowest_price_per_mwh</th><th>highest_price_per_mwh</th><th>origin_date</th><th>data_block_id</th></tr><tr><td>str</td><td>str</td><td>f64</td><td>f64</td><td>str</td><td>f64</td></tr></thead><tbody><tr><td>&quot;count&quot;</td><td>&quot;637&quot;</td><td>637.0</td><td>637.0</td><td>&quot;637&quot;</td><td>637.0</td></tr><tr><td>&quot;null_count&quot;</td><td>&quot;0&quot;</td><td>0.0</td><td>0.0</td><td>&quot;0&quot;</td><td>0.0</td></tr><tr><td>&quot;mean&quot;</td><td>null</td><td>95.03675</td><td>107.754631</td><td>null</td><td>319.0</td></tr><tr><td>&quot;std&quot;</td><td>null</td><td>47.552295</td><td>54.743666</td><td>null</td><td>184.030342</td></tr><tr><td>&quot;min&quot;</td><td>&quot;2021-09-01&quot;</td><td>28.1</td><td>34.0</td><td>&quot;2021-08-31&quot;</td><td>1.0</td></tr><tr><td>&quot;25%&quot;</td><td>null</td><td>60.0</td><td>67.53</td><td>null</td><td>160.0</td></tr><tr><td>&quot;50%&quot;</td><td>null</td><td>85.21</td><td>93.47</td><td>null</td><td>319.0</td></tr><tr><td>&quot;75%&quot;</td><td>null</td><td>109.0</td><td>130.74</td><td>null</td><td>478.0</td></tr><tr><td>&quot;max&quot;</td><td>&quot;2023-05-30&quot;</td><td>250.0</td><td>305.0</td><td>&quot;2023-05-29&quot;</td><td>637.0</td></tr></tbody></table></div>"
      ],
      "text/plain": [
       "shape: (9, 6)\n",
       "┌────────────┬───────────────┬───────────────────┬───────────────────┬─────────────┬───────────────┐\n",
       "│ describe   ┆ forecast_date ┆ lowest_price_per_ ┆ highest_price_per ┆ origin_date ┆ data_block_id │\n",
       "│ ---        ┆ ---           ┆ mwh               ┆ _mwh              ┆ ---         ┆ ---           │\n",
       "│ str        ┆ str           ┆ ---               ┆ ---               ┆ str         ┆ f64           │\n",
       "│            ┆               ┆ f64               ┆ f64               ┆             ┆               │\n",
       "╞════════════╪═══════════════╪═══════════════════╪═══════════════════╪═════════════╪═══════════════╡\n",
       "│ count      ┆ 637           ┆ 637.0             ┆ 637.0             ┆ 637         ┆ 637.0         │\n",
       "│ null_count ┆ 0             ┆ 0.0               ┆ 0.0               ┆ 0           ┆ 0.0           │\n",
       "│ mean       ┆ null          ┆ 95.03675          ┆ 107.754631        ┆ null        ┆ 319.0         │\n",
       "│ std        ┆ null          ┆ 47.552295         ┆ 54.743666         ┆ null        ┆ 184.030342    │\n",
       "│ min        ┆ 2021-09-01    ┆ 28.1              ┆ 34.0              ┆ 2021-08-31  ┆ 1.0           │\n",
       "│ 25%        ┆ null          ┆ 60.0              ┆ 67.53             ┆ null        ┆ 160.0         │\n",
       "│ 50%        ┆ null          ┆ 85.21             ┆ 93.47             ┆ null        ┆ 319.0         │\n",
       "│ 75%        ┆ null          ┆ 109.0             ┆ 130.74            ┆ null        ┆ 478.0         │\n",
       "│ max        ┆ 2023-05-30    ┆ 250.0             ┆ 305.0             ┆ 2023-05-29  ┆ 637.0         │\n",
       "└────────────┴───────────────┴───────────────────┴───────────────────┴─────────────┴───────────────┘"
      ]
     },
     "metadata": {},
     "output_type": "display_data"
    },
    {
     "name": "stdout",
     "output_type": "stream",
     "text": [
      "/mnt/sda1/projects/git/competitions/20240118_kaggle_enefit/predict-energy-behavior-of-prosumers/historical_weather.csv\n"
     ]
    },
    {
     "data": {
      "text/html": [
       "<div><style>\n",
       ".dataframe > thead > tr > th,\n",
       ".dataframe > tbody > tr > td {\n",
       "  text-align: right;\n",
       "  white-space: pre-wrap;\n",
       "}\n",
       "</style>\n",
       "<small>shape: (3, 18)</small><table border=\"1\" class=\"dataframe\"><thead><tr><th>datetime</th><th>temperature</th><th>dewpoint</th><th>rain</th><th>snowfall</th><th>surface_pressure</th><th>cloudcover_total</th><th>cloudcover_low</th><th>cloudcover_mid</th><th>cloudcover_high</th><th>windspeed_10m</th><th>winddirection_10m</th><th>shortwave_radiation</th><th>direct_solar_radiation</th><th>diffuse_radiation</th><th>latitude</th><th>longitude</th><th>data_block_id</th></tr><tr><td>str</td><td>f64</td><td>f64</td><td>f64</td><td>f64</td><td>f64</td><td>i64</td><td>i64</td><td>i64</td><td>i64</td><td>f64</td><td>i64</td><td>f64</td><td>f64</td><td>f64</td><td>f64</td><td>f64</td><td>f64</td></tr></thead><tbody><tr><td>&quot;2021-09-01 00:…</td><td>14.2</td><td>11.6</td><td>0.0</td><td>0.0</td><td>1015.9</td><td>31</td><td>31</td><td>0</td><td>11</td><td>7.083333</td><td>8</td><td>0.0</td><td>0.0</td><td>0.0</td><td>57.6</td><td>21.7</td><td>1.0</td></tr><tr><td>&quot;2021-09-01 00:…</td><td>13.9</td><td>11.5</td><td>0.0</td><td>0.0</td><td>1010.7</td><td>33</td><td>37</td><td>0</td><td>0</td><td>5.111111</td><td>359</td><td>0.0</td><td>0.0</td><td>0.0</td><td>57.6</td><td>22.2</td><td>1.0</td></tr><tr><td>&quot;2021-09-01 00:…</td><td>14.0</td><td>12.5</td><td>0.0</td><td>0.0</td><td>1015.0</td><td>31</td><td>34</td><td>0</td><td>0</td><td>6.333333</td><td>355</td><td>0.0</td><td>0.0</td><td>0.0</td><td>57.6</td><td>22.7</td><td>1.0</td></tr></tbody></table></div>"
      ],
      "text/plain": [
       "shape: (3, 18)\n",
       "┌─────────────┬─────────────┬──────────┬──────┬───┬────────────┬──────────┬───────────┬────────────┐\n",
       "│ datetime    ┆ temperature ┆ dewpoint ┆ rain ┆ … ┆ diffuse_ra ┆ latitude ┆ longitude ┆ data_block │\n",
       "│ ---         ┆ ---         ┆ ---      ┆ ---  ┆   ┆ diation    ┆ ---      ┆ ---       ┆ _id        │\n",
       "│ str         ┆ f64         ┆ f64      ┆ f64  ┆   ┆ ---        ┆ f64      ┆ f64       ┆ ---        │\n",
       "│             ┆             ┆          ┆      ┆   ┆ f64        ┆          ┆           ┆ f64        │\n",
       "╞═════════════╪═════════════╪══════════╪══════╪═══╪════════════╪══════════╪═══════════╪════════════╡\n",
       "│ 2021-09-01  ┆ 14.2        ┆ 11.6     ┆ 0.0  ┆ … ┆ 0.0        ┆ 57.6     ┆ 21.7      ┆ 1.0        │\n",
       "│ 00:00:00    ┆             ┆          ┆      ┆   ┆            ┆          ┆           ┆            │\n",
       "│ 2021-09-01  ┆ 13.9        ┆ 11.5     ┆ 0.0  ┆ … ┆ 0.0        ┆ 57.6     ┆ 22.2      ┆ 1.0        │\n",
       "│ 00:00:00    ┆             ┆          ┆      ┆   ┆            ┆          ┆           ┆            │\n",
       "│ 2021-09-01  ┆ 14.0        ┆ 12.5     ┆ 0.0  ┆ … ┆ 0.0        ┆ 57.6     ┆ 22.7      ┆ 1.0        │\n",
       "│ 00:00:00    ┆             ┆          ┆      ┆   ┆            ┆          ┆           ┆            │\n",
       "└─────────────┴─────────────┴──────────┴──────┴───┴────────────┴──────────┴───────────┴────────────┘"
      ]
     },
     "metadata": {},
     "output_type": "display_data"
    },
    {
     "data": {
      "text/html": [
       "<div><style>\n",
       ".dataframe > thead > tr > th,\n",
       ".dataframe > tbody > tr > td {\n",
       "  text-align: right;\n",
       "  white-space: pre-wrap;\n",
       "}\n",
       "</style>\n",
       "<small>shape: (9, 19)</small><table border=\"1\" class=\"dataframe\"><thead><tr><th>describe</th><th>datetime</th><th>temperature</th><th>dewpoint</th><th>rain</th><th>snowfall</th><th>surface_pressure</th><th>cloudcover_total</th><th>cloudcover_low</th><th>cloudcover_mid</th><th>cloudcover_high</th><th>windspeed_10m</th><th>winddirection_10m</th><th>shortwave_radiation</th><th>direct_solar_radiation</th><th>diffuse_radiation</th><th>latitude</th><th>longitude</th><th>data_block_id</th></tr><tr><td>str</td><td>str</td><td>f64</td><td>f64</td><td>f64</td><td>f64</td><td>f64</td><td>f64</td><td>f64</td><td>f64</td><td>f64</td><td>f64</td><td>f64</td><td>f64</td><td>f64</td><td>f64</td><td>f64</td><td>f64</td><td>f64</td></tr></thead><tbody><tr><td>&quot;count&quot;</td><td>&quot;1710802&quot;</td><td>1.710802e6</td><td>1.710802e6</td><td>1.710802e6</td><td>1.710802e6</td><td>1.710802e6</td><td>1.710802e6</td><td>1.710802e6</td><td>1.710802e6</td><td>1.710802e6</td><td>1.710802e6</td><td>1.710802e6</td><td>1.710802e6</td><td>1.710802e6</td><td>1.710802e6</td><td>1.710802e6</td><td>1.710802e6</td><td>1.710802e6</td></tr><tr><td>&quot;null_count&quot;</td><td>&quot;0&quot;</td><td>0.0</td><td>0.0</td><td>0.0</td><td>0.0</td><td>0.0</td><td>0.0</td><td>0.0</td><td>0.0</td><td>0.0</td><td>0.0</td><td>0.0</td><td>0.0</td><td>0.0</td><td>0.0</td><td>0.0</td><td>0.0</td><td>0.0</td></tr><tr><td>&quot;mean&quot;</td><td>null</td><td>5.740968</td><td>2.240312</td><td>0.04962</td><td>0.016049</td><td>1009.281515</td><td>60.912696</td><td>46.685927</td><td>34.40698</td><td>36.051408</td><td>4.849871</td><td>197.869419</td><td>106.490504</td><td>64.452917</td><td>42.037587</td><td>58.649999</td><td>24.949999</td><td>319.270778</td></tr><tr><td>&quot;std&quot;</td><td>null</td><td>8.025647</td><td>7.224357</td><td>0.207911</td><td>0.074629</td><td>13.088915</td><td>37.769048</td><td>40.747598</td><td>38.327693</td><td>41.358521</td><td>2.47545</td><td>89.937978</td><td>179.944912</td><td>133.409951</td><td>61.952251</td><td>0.687387</td><td>2.015564</td><td>183.729798</td></tr><tr><td>&quot;min&quot;</td><td>&quot;2021-09-01 00:…</td><td>-23.7</td><td>-25.9</td><td>0.0</td><td>0.0</td><td>942.9</td><td>0.0</td><td>0.0</td><td>0.0</td><td>0.0</td><td>0.0</td><td>0.0</td><td>0.0</td><td>0.0</td><td>0.0</td><td>57.6</td><td>21.7</td><td>1.0</td></tr><tr><td>&quot;25%&quot;</td><td>null</td><td>0.0</td><td>-2.6</td><td>0.0</td><td>0.0</td><td>1001.5</td><td>25.0</td><td>3.0</td><td>0.0</td><td>0.0</td><td>3.0</td><td>139.0</td><td>0.0</td><td>0.0</td><td>0.0</td><td>57.9</td><td>23.2</td><td>160.0</td></tr><tr><td>&quot;50%&quot;</td><td>null</td><td>5.1</td><td>1.7</td><td>0.0</td><td>0.0</td><td>1010.4</td><td>72.0</td><td>39.0</td><td>16.0</td><td>10.0</td><td>4.5</td><td>208.0</td><td>1.0</td><td>0.0</td><td>1.0</td><td>58.5</td><td>24.7</td><td>319.0</td></tr><tr><td>&quot;75%&quot;</td><td>null</td><td>11.2</td><td>7.2</td><td>0.0</td><td>0.0</td><td>1018.0</td><td>100.0</td><td>94.0</td><td>72.0</td><td>85.0</td><td>6.277778</td><td>263.0</td><td>140.0</td><td>47.0</td><td>74.0</td><td>59.1</td><td>26.7</td><td>478.0</td></tr><tr><td>&quot;max&quot;</td><td>&quot;2023-05-30 10:…</td><td>32.6</td><td>23.8</td><td>16.8</td><td>2.66</td><td>1049.3</td><td>100.0</td><td>100.0</td><td>100.0</td><td>100.0</td><td>21.75</td><td>360.0</td><td>849.0</td><td>754.0</td><td>388.0</td><td>59.7</td><td>28.2</td><td>637.0</td></tr></tbody></table></div>"
      ],
      "text/plain": [
       "shape: (9, 19)\n",
       "┌───────────┬───────────┬───────────┬───────────┬───┬───────────┬───────────┬───────────┬──────────┐\n",
       "│ describe  ┆ datetime  ┆ temperatu ┆ dewpoint  ┆ … ┆ diffuse_r ┆ latitude  ┆ longitude ┆ data_blo │\n",
       "│ ---       ┆ ---       ┆ re        ┆ ---       ┆   ┆ adiation  ┆ ---       ┆ ---       ┆ ck_id    │\n",
       "│ str       ┆ str       ┆ ---       ┆ f64       ┆   ┆ ---       ┆ f64       ┆ f64       ┆ ---      │\n",
       "│           ┆           ┆ f64       ┆           ┆   ┆ f64       ┆           ┆           ┆ f64      │\n",
       "╞═══════════╪═══════════╪═══════════╪═══════════╪═══╪═══════════╪═══════════╪═══════════╪══════════╡\n",
       "│ count     ┆ 1710802   ┆ 1.710802e ┆ 1.710802e ┆ … ┆ 1.710802e ┆ 1.710802e ┆ 1.710802e ┆ 1.710802 │\n",
       "│           ┆           ┆ 6         ┆ 6         ┆   ┆ 6         ┆ 6         ┆ 6         ┆ e6       │\n",
       "│ null_coun ┆ 0         ┆ 0.0       ┆ 0.0       ┆ … ┆ 0.0       ┆ 0.0       ┆ 0.0       ┆ 0.0      │\n",
       "│ t         ┆           ┆           ┆           ┆   ┆           ┆           ┆           ┆          │\n",
       "│ mean      ┆ null      ┆ 5.740968  ┆ 2.240312  ┆ … ┆ 42.037587 ┆ 58.649999 ┆ 24.949999 ┆ 319.2707 │\n",
       "│           ┆           ┆           ┆           ┆   ┆           ┆           ┆           ┆ 78       │\n",
       "│ std       ┆ null      ┆ 8.025647  ┆ 7.224357  ┆ … ┆ 61.952251 ┆ 0.687387  ┆ 2.015564  ┆ 183.7297 │\n",
       "│           ┆           ┆           ┆           ┆   ┆           ┆           ┆           ┆ 98       │\n",
       "│ min       ┆ 2021-09-0 ┆ -23.7     ┆ -25.9     ┆ … ┆ 0.0       ┆ 57.6      ┆ 21.7      ┆ 1.0      │\n",
       "│           ┆ 1         ┆           ┆           ┆   ┆           ┆           ┆           ┆          │\n",
       "│           ┆ 00:00:00  ┆           ┆           ┆   ┆           ┆           ┆           ┆          │\n",
       "│ 25%       ┆ null      ┆ 0.0       ┆ -2.6      ┆ … ┆ 0.0       ┆ 57.9      ┆ 23.2      ┆ 160.0    │\n",
       "│ 50%       ┆ null      ┆ 5.1       ┆ 1.7       ┆ … ┆ 1.0       ┆ 58.5      ┆ 24.7      ┆ 319.0    │\n",
       "│ 75%       ┆ null      ┆ 11.2      ┆ 7.2       ┆ … ┆ 74.0      ┆ 59.1      ┆ 26.7      ┆ 478.0    │\n",
       "│ max       ┆ 2023-05-3 ┆ 32.6      ┆ 23.8      ┆ … ┆ 388.0     ┆ 59.7      ┆ 28.2      ┆ 637.0    │\n",
       "│           ┆ 0         ┆           ┆           ┆   ┆           ┆           ┆           ┆          │\n",
       "│           ┆ 10:00:00  ┆           ┆           ┆   ┆           ┆           ┆           ┆          │\n",
       "└───────────┴───────────┴───────────┴───────────┴───┴───────────┴───────────┴───────────┴──────────┘"
      ]
     },
     "metadata": {},
     "output_type": "display_data"
    },
    {
     "name": "stdout",
     "output_type": "stream",
     "text": [
      "/mnt/sda1/projects/git/competitions/20240118_kaggle_enefit/predict-energy-behavior-of-prosumers/train.csv\n"
     ]
    },
    {
     "data": {
      "text/html": [
       "<div><style>\n",
       ".dataframe > thead > tr > th,\n",
       ".dataframe > tbody > tr > td {\n",
       "  text-align: right;\n",
       "  white-space: pre-wrap;\n",
       "}\n",
       "</style>\n",
       "<small>shape: (3, 9)</small><table border=\"1\" class=\"dataframe\"><thead><tr><th>county</th><th>is_business</th><th>product_type</th><th>target</th><th>is_consumption</th><th>datetime</th><th>data_block_id</th><th>row_id</th><th>prediction_unit_id</th></tr><tr><td>i64</td><td>i64</td><td>i64</td><td>f64</td><td>i64</td><td>str</td><td>i64</td><td>i64</td><td>i64</td></tr></thead><tbody><tr><td>0</td><td>0</td><td>1</td><td>0.713</td><td>0</td><td>&quot;2021-09-01 00:…</td><td>0</td><td>0</td><td>0</td></tr><tr><td>0</td><td>0</td><td>1</td><td>96.59</td><td>1</td><td>&quot;2021-09-01 00:…</td><td>0</td><td>1</td><td>0</td></tr><tr><td>0</td><td>0</td><td>2</td><td>0.0</td><td>0</td><td>&quot;2021-09-01 00:…</td><td>0</td><td>2</td><td>1</td></tr></tbody></table></div>"
      ],
      "text/plain": [
       "shape: (3, 9)\n",
       "┌────────┬─────────────┬─────────────┬────────┬───┬─────────────┬────────────┬────────┬────────────┐\n",
       "│ county ┆ is_business ┆ product_typ ┆ target ┆ … ┆ datetime    ┆ data_block ┆ row_id ┆ prediction │\n",
       "│ ---    ┆ ---         ┆ e           ┆ ---    ┆   ┆ ---         ┆ _id        ┆ ---    ┆ _unit_id   │\n",
       "│ i64    ┆ i64         ┆ ---         ┆ f64    ┆   ┆ str         ┆ ---        ┆ i64    ┆ ---        │\n",
       "│        ┆             ┆ i64         ┆        ┆   ┆             ┆ i64        ┆        ┆ i64        │\n",
       "╞════════╪═════════════╪═════════════╪════════╪═══╪═════════════╪════════════╪════════╪════════════╡\n",
       "│ 0      ┆ 0           ┆ 1           ┆ 0.713  ┆ … ┆ 2021-09-01  ┆ 0          ┆ 0      ┆ 0          │\n",
       "│        ┆             ┆             ┆        ┆   ┆ 00:00:00    ┆            ┆        ┆            │\n",
       "│ 0      ┆ 0           ┆ 1           ┆ 96.59  ┆ … ┆ 2021-09-01  ┆ 0          ┆ 1      ┆ 0          │\n",
       "│        ┆             ┆             ┆        ┆   ┆ 00:00:00    ┆            ┆        ┆            │\n",
       "│ 0      ┆ 0           ┆ 2           ┆ 0.0    ┆ … ┆ 2021-09-01  ┆ 0          ┆ 2      ┆ 1          │\n",
       "│        ┆             ┆             ┆        ┆   ┆ 00:00:00    ┆            ┆        ┆            │\n",
       "└────────┴─────────────┴─────────────┴────────┴───┴─────────────┴────────────┴────────┴────────────┘"
      ]
     },
     "metadata": {},
     "output_type": "display_data"
    },
    {
     "data": {
      "text/html": [
       "<div><style>\n",
       ".dataframe > thead > tr > th,\n",
       ".dataframe > tbody > tr > td {\n",
       "  text-align: right;\n",
       "  white-space: pre-wrap;\n",
       "}\n",
       "</style>\n",
       "<small>shape: (9, 10)</small><table border=\"1\" class=\"dataframe\"><thead><tr><th>describe</th><th>county</th><th>is_business</th><th>product_type</th><th>target</th><th>is_consumption</th><th>datetime</th><th>data_block_id</th><th>row_id</th><th>prediction_unit_id</th></tr><tr><td>str</td><td>f64</td><td>f64</td><td>f64</td><td>f64</td><td>f64</td><td>str</td><td>f64</td><td>f64</td><td>f64</td></tr></thead><tbody><tr><td>&quot;count&quot;</td><td>2.018352e6</td><td>2.018352e6</td><td>2.018352e6</td><td>2.018352e6</td><td>2.018352e6</td><td>&quot;2018352&quot;</td><td>2.018352e6</td><td>2.018352e6</td><td>2.018352e6</td></tr><tr><td>&quot;null_count&quot;</td><td>0.0</td><td>0.0</td><td>0.0</td><td>528.0</td><td>0.0</td><td>&quot;0&quot;</td><td>0.0</td><td>0.0</td><td>0.0</td></tr><tr><td>&quot;mean&quot;</td><td>7.297034</td><td>0.536826</td><td>1.898927</td><td>274.85556</td><td>0.5</td><td>null</td><td>321.874599</td><td>1009175.5</td><td>33.045376</td></tr><tr><td>&quot;std&quot;</td><td>4.78099</td><td>0.498642</td><td>1.081766</td><td>909.502378</td><td>0.5</td><td>null</td><td>182.634314</td><td>582648.179597</td><td>19.590594</td></tr><tr><td>&quot;min&quot;</td><td>0.0</td><td>0.0</td><td>0.0</td><td>0.0</td><td>0.0</td><td>&quot;2021-09-01 00:…</td><td>0.0</td><td>0.0</td><td>0.0</td></tr><tr><td>&quot;25%&quot;</td><td>3.0</td><td>0.0</td><td>1.0</td><td>0.378</td><td>0.0</td><td>null</td><td>166.0</td><td>504588.0</td><td>16.0</td></tr><tr><td>&quot;50%&quot;</td><td>7.0</td><td>1.0</td><td>2.0</td><td>31.133</td><td>1.0</td><td>null</td><td>323.0</td><td>1.009176e6</td><td>33.0</td></tr><tr><td>&quot;75%&quot;</td><td>11.0</td><td>1.0</td><td>3.0</td><td>180.207</td><td>1.0</td><td>null</td><td>479.0</td><td>1.513764e6</td><td>50.0</td></tr><tr><td>&quot;max&quot;</td><td>15.0</td><td>1.0</td><td>3.0</td><td>15480.274</td><td>1.0</td><td>&quot;2023-05-31 23:…</td><td>637.0</td><td>2.018351e6</td><td>68.0</td></tr></tbody></table></div>"
      ],
      "text/plain": [
       "shape: (9, 10)\n",
       "┌───────────┬───────────┬───────────┬───────────┬───┬───────────┬───────────┬───────────┬──────────┐\n",
       "│ describe  ┆ county    ┆ is_busine ┆ product_t ┆ … ┆ datetime  ┆ data_bloc ┆ row_id    ┆ predicti │\n",
       "│ ---       ┆ ---       ┆ ss        ┆ ype       ┆   ┆ ---       ┆ k_id      ┆ ---       ┆ on_unit_ │\n",
       "│ str       ┆ f64       ┆ ---       ┆ ---       ┆   ┆ str       ┆ ---       ┆ f64       ┆ id       │\n",
       "│           ┆           ┆ f64       ┆ f64       ┆   ┆           ┆ f64       ┆           ┆ ---      │\n",
       "│           ┆           ┆           ┆           ┆   ┆           ┆           ┆           ┆ f64      │\n",
       "╞═══════════╪═══════════╪═══════════╪═══════════╪═══╪═══════════╪═══════════╪═══════════╪══════════╡\n",
       "│ count     ┆ 2.018352e ┆ 2.018352e ┆ 2.018352e ┆ … ┆ 2018352   ┆ 2.018352e ┆ 2.018352e ┆ 2.018352 │\n",
       "│           ┆ 6         ┆ 6         ┆ 6         ┆   ┆           ┆ 6         ┆ 6         ┆ e6       │\n",
       "│ null_coun ┆ 0.0       ┆ 0.0       ┆ 0.0       ┆ … ┆ 0         ┆ 0.0       ┆ 0.0       ┆ 0.0      │\n",
       "│ t         ┆           ┆           ┆           ┆   ┆           ┆           ┆           ┆          │\n",
       "│ mean      ┆ 7.297034  ┆ 0.536826  ┆ 1.898927  ┆ … ┆ null      ┆ 321.87459 ┆ 1009175.5 ┆ 33.04537 │\n",
       "│           ┆           ┆           ┆           ┆   ┆           ┆ 9         ┆           ┆ 6        │\n",
       "│ std       ┆ 4.78099   ┆ 0.498642  ┆ 1.081766  ┆ … ┆ null      ┆ 182.63431 ┆ 582648.17 ┆ 19.59059 │\n",
       "│           ┆           ┆           ┆           ┆   ┆           ┆ 4         ┆ 9597      ┆ 4        │\n",
       "│ min       ┆ 0.0       ┆ 0.0       ┆ 0.0       ┆ … ┆ 2021-09-0 ┆ 0.0       ┆ 0.0       ┆ 0.0      │\n",
       "│           ┆           ┆           ┆           ┆   ┆ 1         ┆           ┆           ┆          │\n",
       "│           ┆           ┆           ┆           ┆   ┆ 00:00:00  ┆           ┆           ┆          │\n",
       "│ 25%       ┆ 3.0       ┆ 0.0       ┆ 1.0       ┆ … ┆ null      ┆ 166.0     ┆ 504588.0  ┆ 16.0     │\n",
       "│ 50%       ┆ 7.0       ┆ 1.0       ┆ 2.0       ┆ … ┆ null      ┆ 323.0     ┆ 1.009176e ┆ 33.0     │\n",
       "│           ┆           ┆           ┆           ┆   ┆           ┆           ┆ 6         ┆          │\n",
       "│ 75%       ┆ 11.0      ┆ 1.0       ┆ 3.0       ┆ … ┆ null      ┆ 479.0     ┆ 1.513764e ┆ 50.0     │\n",
       "│           ┆           ┆           ┆           ┆   ┆           ┆           ┆ 6         ┆          │\n",
       "│ max       ┆ 15.0      ┆ 1.0       ┆ 3.0       ┆ … ┆ 2023-05-3 ┆ 637.0     ┆ 2.018351e ┆ 68.0     │\n",
       "│           ┆           ┆           ┆           ┆   ┆ 1         ┆           ┆ 6         ┆          │\n",
       "│           ┆           ┆           ┆           ┆   ┆ 23:00:00  ┆           ┆           ┆          │\n",
       "└───────────┴───────────┴───────────┴───────────┴───┴───────────┴───────────┴───────────┴──────────┘"
      ]
     },
     "metadata": {},
     "output_type": "display_data"
    },
    {
     "name": "stdout",
     "output_type": "stream",
     "text": [
      "/mnt/sda1/projects/git/competitions/20240118_kaggle_enefit/predict-energy-behavior-of-prosumers/weather_station_to_county_mapping.csv\n"
     ]
    },
    {
     "data": {
      "text/html": [
       "<div><style>\n",
       ".dataframe > thead > tr > th,\n",
       ".dataframe > tbody > tr > td {\n",
       "  text-align: right;\n",
       "  white-space: pre-wrap;\n",
       "}\n",
       "</style>\n",
       "<small>shape: (3, 4)</small><table border=\"1\" class=\"dataframe\"><thead><tr><th>county_name</th><th>longitude</th><th>latitude</th><th>county</th></tr><tr><td>str</td><td>f64</td><td>f64</td><td>i64</td></tr></thead><tbody><tr><td>null</td><td>21.7</td><td>57.6</td><td>null</td></tr><tr><td>null</td><td>21.7</td><td>57.9</td><td>null</td></tr><tr><td>null</td><td>21.7</td><td>58.2</td><td>null</td></tr></tbody></table></div>"
      ],
      "text/plain": [
       "shape: (3, 4)\n",
       "┌─────────────┬───────────┬──────────┬────────┐\n",
       "│ county_name ┆ longitude ┆ latitude ┆ county │\n",
       "│ ---         ┆ ---       ┆ ---      ┆ ---    │\n",
       "│ str         ┆ f64       ┆ f64      ┆ i64    │\n",
       "╞═════════════╪═══════════╪══════════╪════════╡\n",
       "│ null        ┆ 21.7      ┆ 57.6     ┆ null   │\n",
       "│ null        ┆ 21.7      ┆ 57.9     ┆ null   │\n",
       "│ null        ┆ 21.7      ┆ 58.2     ┆ null   │\n",
       "└─────────────┴───────────┴──────────┴────────┘"
      ]
     },
     "metadata": {},
     "output_type": "display_data"
    },
    {
     "data": {
      "text/html": [
       "<div><style>\n",
       ".dataframe > thead > tr > th,\n",
       ".dataframe > tbody > tr > td {\n",
       "  text-align: right;\n",
       "  white-space: pre-wrap;\n",
       "}\n",
       "</style>\n",
       "<small>shape: (9, 5)</small><table border=\"1\" class=\"dataframe\"><thead><tr><th>describe</th><th>county_name</th><th>longitude</th><th>latitude</th><th>county</th></tr><tr><td>str</td><td>str</td><td>f64</td><td>f64</td><td>f64</td></tr></thead><tbody><tr><td>&quot;count&quot;</td><td>&quot;112&quot;</td><td>112.0</td><td>112.0</td><td>112.0</td></tr><tr><td>&quot;null_count&quot;</td><td>&quot;63&quot;</td><td>0.0</td><td>0.0</td><td>63.0</td></tr><tr><td>&quot;mean&quot;</td><td>null</td><td>24.95</td><td>58.65</td><td>7.061224</td></tr><tr><td>&quot;std&quot;</td><td>null</td><td>2.024623</td><td>0.690476</td><td>4.870866</td></tr><tr><td>&quot;min&quot;</td><td>&quot;Harjumaa&quot;</td><td>21.7</td><td>57.6</td><td>0.0</td></tr><tr><td>&quot;25%&quot;</td><td>null</td><td>23.2</td><td>58.2</td><td>3.0</td></tr><tr><td>&quot;50%&quot;</td><td>null</td><td>25.2</td><td>58.8</td><td>7.0</td></tr><tr><td>&quot;75%&quot;</td><td>null</td><td>26.7</td><td>59.4</td><td>11.0</td></tr><tr><td>&quot;max&quot;</td><td>&quot;Võrumaa&quot;</td><td>28.2</td><td>59.7</td><td>15.0</td></tr></tbody></table></div>"
      ],
      "text/plain": [
       "shape: (9, 5)\n",
       "┌────────────┬─────────────┬───────────┬──────────┬──────────┐\n",
       "│ describe   ┆ county_name ┆ longitude ┆ latitude ┆ county   │\n",
       "│ ---        ┆ ---         ┆ ---       ┆ ---      ┆ ---      │\n",
       "│ str        ┆ str         ┆ f64       ┆ f64      ┆ f64      │\n",
       "╞════════════╪═════════════╪═══════════╪══════════╪══════════╡\n",
       "│ count      ┆ 112         ┆ 112.0     ┆ 112.0    ┆ 112.0    │\n",
       "│ null_count ┆ 63          ┆ 0.0       ┆ 0.0      ┆ 63.0     │\n",
       "│ mean       ┆ null        ┆ 24.95     ┆ 58.65    ┆ 7.061224 │\n",
       "│ std        ┆ null        ┆ 2.024623  ┆ 0.690476 ┆ 4.870866 │\n",
       "│ min        ┆ Harjumaa    ┆ 21.7      ┆ 57.6     ┆ 0.0      │\n",
       "│ 25%        ┆ null        ┆ 23.2      ┆ 58.2     ┆ 3.0      │\n",
       "│ 50%        ┆ null        ┆ 25.2      ┆ 58.8     ┆ 7.0      │\n",
       "│ 75%        ┆ null        ┆ 26.7      ┆ 59.4     ┆ 11.0     │\n",
       "│ max        ┆ Võrumaa     ┆ 28.2      ┆ 59.7     ┆ 15.0     │\n",
       "└────────────┴─────────────┴───────────┴──────────┴──────────┘"
      ]
     },
     "metadata": {},
     "output_type": "display_data"
    }
   ],
   "source": [
    "from pathlib import Path\n",
    "import pandas as pd\n",
    "import polars as pl\n",
    "from IPython.display import display\n",
    "\n",
    "\n",
    "dirpath = data.get_data_dirpath()\n",
    "for f in sorted(dirpath.glob(\"*.csv\")):\n",
    "    print(f)\n",
    "    df = pl.read_csv(f)\n",
    "    display(df.head(3))\n",
    "    display(df.describe())"
   ]
  },
  {
   "cell_type": "code",
   "execution_count": 61,
   "metadata": {},
   "outputs": [
    {
     "data": {
      "text/plain": [
       "528"
      ]
     },
     "execution_count": 61,
     "metadata": {},
     "output_type": "execute_result"
    }
   ],
   "source": [
    "train = pl.read_csv(dirpath / \"train.csv\")\n",
    "train[\"target\"].is_null().sum()"
   ]
  },
  {
   "cell_type": "code",
   "execution_count": 62,
   "metadata": {},
   "outputs": [
    {
     "data": {
      "text/html": [
       "<div><style>\n",
       ".dataframe > thead > tr > th,\n",
       ".dataframe > tbody > tr > td {\n",
       "  text-align: right;\n",
       "  white-space: pre-wrap;\n",
       "}\n",
       "</style>\n",
       "<small>shape: (3, 14)</small><table border=\"1\" class=\"dataframe\"><thead><tr><th>county</th><th>is_business</th><th>product_type</th><th>target</th><th>is_consumption</th><th>datetime</th><th>data_block_id</th><th>row_id</th><th>prediction_unit_id</th><th>date</th><th>hour</th><th>weekday</th><th>month</th><th>year</th></tr><tr><td>i64</td><td>i64</td><td>i64</td><td>f64</td><td>i64</td><td>datetime[μs]</td><td>i64</td><td>i64</td><td>i64</td><td>date</td><td>u32</td><td>u32</td><td>u32</td><td>i32</td></tr></thead><tbody><tr><td>0</td><td>0</td><td>1</td><td>0.713</td><td>0</td><td>2021-09-01 00:00:00</td><td>0</td><td>0</td><td>0</td><td>2021-09-01</td><td>0</td><td>3</td><td>9</td><td>2021</td></tr><tr><td>0</td><td>0</td><td>1</td><td>96.59</td><td>1</td><td>2021-09-01 00:00:00</td><td>0</td><td>1</td><td>0</td><td>2021-09-01</td><td>0</td><td>3</td><td>9</td><td>2021</td></tr><tr><td>0</td><td>0</td><td>2</td><td>0.0</td><td>0</td><td>2021-09-01 00:00:00</td><td>0</td><td>2</td><td>1</td><td>2021-09-01</td><td>0</td><td>3</td><td>9</td><td>2021</td></tr></tbody></table></div>"
      ],
      "text/plain": [
       "shape: (3, 14)\n",
       "┌────────┬─────────────┬──────────────┬────────┬───┬──────┬─────────┬───────┬──────┐\n",
       "│ county ┆ is_business ┆ product_type ┆ target ┆ … ┆ hour ┆ weekday ┆ month ┆ year │\n",
       "│ ---    ┆ ---         ┆ ---          ┆ ---    ┆   ┆ ---  ┆ ---     ┆ ---   ┆ ---  │\n",
       "│ i64    ┆ i64         ┆ i64          ┆ f64    ┆   ┆ u32  ┆ u32     ┆ u32   ┆ i32  │\n",
       "╞════════╪═════════════╪══════════════╪════════╪═══╪══════╪═════════╪═══════╪══════╡\n",
       "│ 0      ┆ 0           ┆ 1            ┆ 0.713  ┆ … ┆ 0    ┆ 3       ┆ 9     ┆ 2021 │\n",
       "│ 0      ┆ 0           ┆ 1            ┆ 96.59  ┆ … ┆ 0    ┆ 3       ┆ 9     ┆ 2021 │\n",
       "│ 0      ┆ 0           ┆ 2            ┆ 0.0    ┆ … ┆ 0    ┆ 3       ┆ 9     ┆ 2021 │\n",
       "└────────┴─────────────┴──────────────┴────────┴───┴──────┴─────────┴───────┴──────┘"
      ]
     },
     "execution_count": 62,
     "metadata": {},
     "output_type": "execute_result"
    }
   ],
   "source": [
    "table = data.Table.from_path(dirpath / \"train.csv\")\n",
    "table.df.head(3)"
   ]
  },
  {
   "cell_type": "code",
   "execution_count": 63,
   "metadata": {},
   "outputs": [
    {
     "name": "stdout",
     "output_type": "stream",
     "text": [
      "0\n",
      "0\n"
     ]
    }
   ],
   "source": [
    "test, train = table.split_train_test(test_date=table.df[\"date\"].max())\n",
    "test.df.head(3)\n",
    "print(test.df[\"target\"].is_null().sum())\n",
    "print(train.df[\"target\"].is_null().sum())"
   ]
  },
  {
   "cell_type": "code",
   "execution_count": 53,
   "metadata": {},
   "outputs": [
    {
     "name": "stdout",
     "output_type": "stream",
     "text": [
      "[LightGBM] [Info] Auto-choosing row-wise multi-threading, the overhead of testing was 0.019994 seconds.\n",
      "You can set `force_row_wise=true` to remove the overhead.\n",
      "And if memory is not enough, you can set `force_col_wise=true`.\n",
      "[LightGBM] [Info] Total Bins 73\n",
      "[LightGBM] [Info] Number of data points in the train set: 2014704, number of used features: 8\n",
      "[LightGBM] [Info] Start training from score 274.645822\n"
     ]
    },
    {
     "data": {
      "text/plain": [
       "<lightgbm.basic.Booster at 0x7f2fd83e5300>"
      ]
     },
     "execution_count": 53,
     "metadata": {},
     "output_type": "execute_result"
    }
   ],
   "source": [
    "import lightgbm as lgb\n",
    "\n",
    "train_data = lgb.Dataset(train.get_X(), train.get_y())\n",
    "params = {\n",
    "    \"objective\": \"regression\",\n",
    "    \"boosting_type\": \"gbdt\",\n",
    "    \"metric\": \"rmse\",\n",
    "    \"num_leaves\": 31,\n",
    "    \"learning_rate\": 0.05,\n",
    "    \"feature_fraction\": 0.9,\n",
    "}\n",
    "bst = lgb.train(params, train_data, num_boost_round=100)\n",
    "bst.save_model(\"model.txt\")"
   ]
  },
  {
   "cell_type": "code",
   "execution_count": 54,
   "metadata": {},
   "outputs": [
    {
     "data": {
      "text/plain": [
       "array([136.86107898, 532.92049524, -28.23176033, ..., 157.93524259,\n",
       "        15.72817844, 483.29476793])"
      ]
     },
     "execution_count": 54,
     "metadata": {},
     "output_type": "execute_result"
    }
   ],
   "source": [
    "y_pred = bst.predict(test.get_X(), num_iteration=bst.best_iteration)\n",
    "y_pred"
   ]
  },
  {
   "cell_type": "code",
   "execution_count": 55,
   "metadata": {},
   "outputs": [
    {
     "data": {
      "text/plain": [
       "array([274.64582226, 274.64582226, 274.64582226, ..., 274.64582226,\n",
       "       274.64582226, 274.64582226])"
      ]
     },
     "execution_count": 55,
     "metadata": {},
     "output_type": "execute_result"
    }
   ],
   "source": [
    "import numpy as np\n",
    "y_pred_baseline = np.full_like(test.get_y(), fill_value=train.get_y().mean())\n",
    "y_pred_baseline"
   ]
  },
  {
   "cell_type": "code",
   "execution_count": 57,
   "metadata": {},
   "outputs": [
    {
     "data": {
      "text/plain": [
       "447.73427285343865"
      ]
     },
     "execution_count": 57,
     "metadata": {},
     "output_type": "execute_result"
    }
   ],
   "source": [
    "from sklearn.metrics import (\n",
    "    accuracy_score,\n",
    "    roc_auc_score,\n",
    "    mean_squared_error,\n",
    "    mean_absolute_error,\n",
    ")\n",
    "\n",
    "mean_absolute_error(test.get_y(), y_pred_baseline)\n",
    "# 188 for model\n",
    "# 447 for baseline"
   ]
  }
 ],
 "metadata": {
  "kernelspec": {
   "display_name": "Python 3",
   "language": "python",
   "name": "python3"
  },
  "language_info": {
   "codemirror_mode": {
    "name": "ipython",
    "version": 3
   },
   "file_extension": ".py",
   "mimetype": "text/x-python",
   "name": "python",
   "nbconvert_exporter": "python",
   "pygments_lexer": "ipython3",
   "version": "3.10.13"
  }
 },
 "nbformat": 4,
 "nbformat_minor": 2
}
